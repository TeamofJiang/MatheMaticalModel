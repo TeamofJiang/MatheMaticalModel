{
 "cells": [
  {
   "cell_type": "markdown",
   "metadata": {},
   "source": [
    "### 线性规划"
   ]
  },
  {
   "cell_type": "markdown",
   "metadata": {},
   "source": [
    "**线性规划的标准形式**\n",
    "$$\n",
    "\\begin{align}\n",
    "& min\\:c^T x\\\\\\\n",
    "& Ax <= b\\\\\\\n",
    "& Aeq \\cdot x = beq\\\\\\\n",
    "& lb \\leq x \\geq ub\\\\\\\n",
    "\\end{align}\n",
    "$$"
   ]
  },
  {
   "cell_type": "markdown",
   "metadata": {},
   "source": [
    "**例题.1**\n",
    "$$\n",
    "\\begin{align}\n",
    "& max\\: z = 2x_1 + 3x_2 - 5x_3 \\\\\\\n",
    "& x_1 + x_2 + x_3 = 7 \\\\\\\n",
    "& 2x_1 - 5x_2 + x_3 \\geq 10 \\\\\\\n",
    "& x_1 + 3x_2 + x_3 \\leq 12 \\\\\\\n",
    "& x_1,\\,x_2,\\,x_3 \\geq 0 \\\\\\\n",
    "\\end{align}\n",
    "$$"
   ]
  },
  {
   "cell_type": "code",
   "execution_count": 1,
   "metadata": {},
   "outputs": [
    {
     "data": {
      "text/plain": [
       "     fun: -14.571428571428571\n",
       " message: 'Optimization terminated successfully.'\n",
       "     nit: 2\n",
       "   slack: array([3.85714286, 0.        ])\n",
       "  status: 0\n",
       " success: True\n",
       "       x: array([6.42857143, 0.57142857, 0.        ])"
      ]
     },
     "execution_count": 1,
     "metadata": {},
     "output_type": "execute_result"
    }
   ],
   "source": [
    "import numpy as np\n",
    "from scipy import optimize\n",
    "#scipy optimize求解\n",
    "z = np.array([-2, -3, 5])\n",
    "\n",
    "Aeq = np.array([[1, 1, 1]])\n",
    "Beq = np.array([7])\n",
    "\n",
    "A = np.array([[-2, 5, -1], [1, 3, 1]])\n",
    "B = np.array([-10, 12])\n",
    "\n",
    "x1_bound = x2_bound = x3_bound = (0, None)\n",
    "\n",
    "res = optimize.linprog(z, A_eq=Aeq, b_eq=Beq, A_ub=A, b_ub=B, bounds=(x1_bound, x2_bound, x3_bound))\n",
    "res"
   ]
  },
  {
   "cell_type": "code",
   "execution_count": 2,
   "metadata": {},
   "outputs": [
    {
     "name": "stdout",
     "output_type": "stream",
     "text": [
      "Optimal\n",
      "x1 = 6.4285714\n",
      "x2 = 0.57142857\n",
      "x3 = 0.0\n",
      "Reault of Lp Problem is :  14.57142851\n"
     ]
    }
   ],
   "source": [
    "import pulp\n",
    "#pulp库求解\n",
    "\n",
    "#建立优化问题\n",
    "prob = pulp.LpProblem(name = \"LP\", sense = pulp.LpMaximize)\n",
    "\n",
    "#定义优化变量\n",
    "x1 = pulp.LpVariable(\"x1\", lowBound=0, upBound=None, cat = pulp.LpContinuous)\n",
    "x2 = pulp.LpVariable(\"x2\", lowBound=0, upBound=None, cat = pulp.LpContinuous)\n",
    "x3 = pulp.LpVariable(\"x3\", lowBound=0, upBound=None, cat = pulp.LpContinuous)\n",
    "\n",
    "#定义目标函数\n",
    "prob += 2*x1 + 3*x2 - 5*x3\n",
    "\n",
    "#约束条件\n",
    "prob += x1 + x2 + x3 == 7\n",
    "prob += 2*x1 - 5*x2 + x3 >= 10\n",
    "prob += x1 + 3*x2 + x3 <= 12\n",
    "\n",
    "#求解优化问题\n",
    "prob.solve()\n",
    "print(pulp.LpStatus[prob.status])\n",
    "for v in prob.variables():\n",
    "    print(v.name,\"=\",v.varValue)\n",
    "\n",
    "print(\"Reault of Lp Problem is : \", pulp.value(prob.objective))"
   ]
  },
  {
   "cell_type": "markdown",
   "metadata": {},
   "source": [
    "**例题.2 指派问题**"
   ]
  },
  {
   "cell_type": "markdown",
   "metadata": {},
   "source": [
    "**n个人去干n项工作，每人干且仅干一项，若分配第 i人去干第j项工作，需要花费$c_{ij}$单位时间**\n",
    "\n",
    "**问如何分配工作使得总时间最小**"
   ]
  },
  {
   "cell_type": "code",
   "execution_count": 3,
   "metadata": {},
   "outputs": [
    {
     "name": "stdout",
     "output_type": "stream",
     "text": [
      "[1 2 3 4 5]\n",
      "[2 3 1 4 5]\n",
      "[7 6 7 6 6]\n"
     ]
    }
   ],
   "source": [
    "import numpy as np\n",
    "from scipy.optimize import linear_sum_assignment\n",
    "\n",
    "efficiency_matrix = np.array([\n",
    "    [12,7,9,7,9],\n",
    "    [8,9,6,6,6],\n",
    "    [7,17,12,14,12],\n",
    "    [15,14,6,6,10],\n",
    "    [4,10,7,10,6]\n",
    "])\n",
    "\n",
    "row_index, col_index=linear_sum_assignment(efficiency_matrix)\n",
    "print(row_index+1) #行\n",
    "print(col_index+1) #列\n",
    "print(efficiency_matrix[row_index,col_index])"
   ]
  },
  {
   "cell_type": "code",
   "execution_count": 4,
   "metadata": {},
   "outputs": [
    {
     "name": "stdout",
     "output_type": "stream",
     "text": [
      "Optimal\n"
     ]
    },
    {
     "data": {
      "text/plain": [
       "[[0.0, 1.0, 0.0, 0.0, 0.0],\n",
       " [0.0, 0.0, 0.0, 1.0, 0.0],\n",
       " [1.0, 0.0, 0.0, 0.0, 0.0],\n",
       " [0.0, 0.0, 1.0, 0.0, 0.0],\n",
       " [0.0, 0.0, 0.0, 0.0, 1.0]]"
      ]
     },
     "execution_count": 4,
     "metadata": {},
     "output_type": "execute_result"
    }
   ],
   "source": [
    "import pulp\n",
    "\n",
    "model = pulp.LpProblem(\"Assignment\", sense = pulp.LpMinimize)\n",
    "\n",
    "var = [[pulp.LpVariable(f'x{i}{j}', lowBound=0, cat = pulp.LpBinary) for i in range(5)] for j in range(5)]\n",
    "\n",
    "efficiency_matrix = np.array([\n",
    "    [12,7,9,7,9],\n",
    "    [8,9,6,6,6],\n",
    "    [7,17,12,14,12],\n",
    "    [15,14,6,6,10],\n",
    "    [4,10,7,10,6]\n",
    "])\n",
    "\n",
    "model += pulp.lpSum(efficiency_matrix*var)\n",
    "model += pulp.lpSum(var[0]) == 1\n",
    "model += pulp.lpSum(var[1]) == 1\n",
    "model += pulp.lpSum(var[2]) == 1\n",
    "model += pulp.lpSum(var[3]) == 1\n",
    "model += pulp.lpSum(var[4]) == 1\n",
    "model += pulp.lpSum([var[i][0] for i in range(5)]) == 1\n",
    "model += pulp.lpSum([var[i][1] for i in range(5)]) == 1\n",
    "model += pulp.lpSum([var[i][2] for i in range(5)]) == 1\n",
    "model += pulp.lpSum([var[i][3] for i in range(5)]) == 1\n",
    "model += pulp.lpSum([var[i][4] for i in range(5)]) == 1\n",
    "\n",
    "model.solve()\n",
    "\n",
    "print(pulp.LpStatus[model.status])\n",
    "res = [[pulp.value(var[i][j])for j in range(5)] for i in range(5)]\n",
    "res"
   ]
  },
  {
   "cell_type": "markdown",
   "metadata": {},
   "source": [
    "**例题.3运输问题**"
   ]
  },
  {
   "cell_type": "markdown",
   "metadata": {},
   "source": [
    "一个农民承包了6块耕地共300亩，准备播种小麦、玉米、水果和蔬菜四种农产品，\n",
    "各种农产品的计划播种面积、每块土地不同农产品的单位收益如下表所示\n",
    "\n",
    "品种\\单产收益|块地1|块地2|块地3|块地4|块地5|块地6|计划播种面积\n",
    "--|:--|:--|:--|:--|:--|:--|:\n",
    "小麦|500|550|630|1000|800|700|76亩\n",
    "玉米|800|700|600|950|900|930|88亩\n",
    "水果|1000|960|840|650|600|700|96亩\n",
    "蔬菜|1200|1040|980|860|880|780|40亩\n",
    "块地面积|42|56|44|39|60|59|None\n",
    "<br>\n",
    "\n",
    "问如何安排计划，可得到最大的总收益"
   ]
  },
  {
   "cell_type": "code",
   "execution_count": 5,
   "metadata": {},
   "outputs": [],
   "source": [
    "import pulp\n",
    "import numpy as np\n",
    "from pprint import pprint\n",
    "\n",
    "def transportation_problem(costs, x_max, y_max):\n",
    "\n",
    "    row = len(costs)\n",
    "    col = len(costs[0])\n",
    "\n",
    "    prob = pulp.LpProblem('Transportation_Problem', sense=pulp.LpMaximize)\n",
    "    var = [[pulp.LpVariable(f'x{i}{j}', lowBound=0, cat=pulp.LpInteger) for j in range(col)] for i in range(row)]\n",
    "    flatten = lambda x: [y for l in x for y in flatten(l)] if type(x) is list else [x]\n",
    "    prob += pulp.lpDot(flatten(var), costs.flatten())\n",
    "    \n",
    "    for i in range(row):\n",
    "        prob += (pulp.lpSum(var[i]) <= x_max[i])\n",
    "\n",
    "    for j in range(col):\n",
    "        prob += (pulp.lpSum([var[i][j] for i in range(row)]) <= y_max[j])\n",
    "\n",
    "    prob.solve()\n",
    "\n",
    "    return {'objective':pulp.value(prob.objective), 'var': [[pulp.value(var[i][j]) for j in range(col)] for i in range(row)]}"
   ]
  },
  {
   "cell_type": "code",
   "execution_count": 6,
   "metadata": {},
   "outputs": [
    {
     "name": "stdout",
     "output_type": "stream",
     "text": [
      "最大值为284230.0\n",
      "各变量的取值为：\n",
      "[[0.0, 0.0, 6.0, 39.0, 31.0, 0.0],\n",
      " [0.0, 0.0, 0.0, 0.0, 29.0, 59.0],\n",
      " [2.0, 56.0, 38.0, 0.0, 0.0, 0.0],\n",
      " [40.0, 0.0, 0.0, 0.0, 0.0, 0.0]]\n"
     ]
    }
   ],
   "source": [
    "costs = np.array([[500, 550, 630, 1000, 800, 700],\n",
    "                   [800, 700, 600, 950, 900, 930],\n",
    "                   [1000, 960, 840, 650, 600, 700],\n",
    "                   [1200, 1040, 980, 860, 880, 780]])\n",
    "\n",
    "max_plant = [76, 88, 96, 40]\n",
    "max_cultivation = [42, 56, 44, 39, 60, 59]\n",
    "res = transportation_problem(costs, max_plant, max_cultivation)\n",
    "\n",
    "print(f'最大值为{res[\"objective\"]}')\n",
    "print('各变量的取值为：')\n",
    "pprint(res['var'])"
   ]
  },
  {
   "cell_type": "markdown",
   "metadata": {},
   "source": [
    "**整数规划**"
   ]
  },
  {
   "cell_type": "markdown",
   "metadata": {},
   "source": [
    "\\begin{align}\n",
    "Max \\: z = 40x_1 + 90x_2\\\\\\\n",
    "9x_1 + 7x_2 \\leq 56\\\\\\\n",
    "7x_1 + 20 x_2 \\leq 70\\\\\\\n",
    "x_1,\\:x_2 \\geq 0 且为整数\\\\\\\n",
    "\\end{align}"
   ]
  },
  {
   "cell_type": "code",
   "execution_count": 7,
   "metadata": {},
   "outputs": [
    {
     "name": "stdout",
     "output_type": "stream",
     "text": [
      "Max :  340.0\n",
      "x1 = 4.0\n",
      "x2 = 2.0\n"
     ]
    }
   ],
   "source": [
    "import pulp\n",
    "\n",
    "prob = pulp.LpProblem(name = \"IntLp\", sense = pulp.LpMaximize)\n",
    "\n",
    "x1 = pulp.LpVariable(\"x1\", lowBound=0, cat = pulp.LpInteger)\n",
    "x2 = pulp.LpVariable(\"x2\", lowBound=0, cat = pulp.LpInteger)\n",
    "\n",
    "prob += 40*x1 + 90*x2\n",
    "\n",
    "prob += 9*x1 + 7*x2 <= 56\n",
    "prob += 7*x1 + 20*x2 <= 70\n",
    "\n",
    "prob.solve()\n",
    "\n",
    "print(\"Max : \", pulp.value(prob.objective))\n",
    "for v in prob.variables():\n",
    "    print(v.name,\"=\",v.varValue)"
   ]
  }
 ],
 "metadata": {
  "kernelspec": {
   "display_name": "Python 3",
   "language": "python",
   "name": "python3"
  },
  "language_info": {
   "codemirror_mode": {
    "name": "ipython",
    "version": 3
   },
   "file_extension": ".py",
   "mimetype": "text/x-python",
   "name": "python",
   "nbconvert_exporter": "python",
   "pygments_lexer": "ipython3",
   "version": "3.6.5"
  }
 },
 "nbformat": 4,
 "nbformat_minor": 2
}
