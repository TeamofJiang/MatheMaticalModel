{
 "cells": [
  {
   "cell_type": "markdown",
   "metadata": {},
   "source": [
    "### 线性规划"
   ]
  },
  {
   "cell_type": "markdown",
   "metadata": {},
   "source": [
    "**线性规划的标准形式**\n",
    "$$\n",
    "\\begin{align}\n",
    "& min\\:c^T x\\\\\\\n",
    "& Ax <= b\\\\\\\n",
    "& Aeq \\cdot x = beq\\\\\\\n",
    "& lb \\leq x \\geq ub\\\\\\\n",
    "\\end{align}\n",
    "$$"
   ]
  },
  {
   "cell_type": "markdown",
   "metadata": {},
   "source": [
    "**例题.1**\n",
    "$$\n",
    "\\begin{align}\n",
    "& max\\: z = 2x_1 + 3x_2 - 5x_3 \\\\\\\n",
    "& x_1 + x_2 + x_3 = 7 \\\\\\\n",
    "& 2x_1 - 5x_2 + x_3 \\geq 10 \\\\\\\n",
    "& x_1 + 3x_2 + x_3 \\leq 12 \\\\\\\n",
    "& x_1,\\,x_2,\\,x_3 \\leq 0 \\\\\\\n",
    "\\end{align}\n",
    "$$"
   ]
  },
  {
   "cell_type": "code",
   "execution_count": 8,
   "metadata": {},
   "outputs": [
    {
     "data": {
      "text/plain": [
       "     fun: -14.571428571428571\n",
       " message: 'Optimization terminated successfully.'\n",
       "     nit: 2\n",
       "   slack: array([3.85714286, 0.        ])\n",
       "  status: 0\n",
       " success: True\n",
       "       x: array([6.42857143, 0.57142857, 0.        ])"
      ]
     },
     "execution_count": 8,
     "metadata": {},
     "output_type": "execute_result"
    }
   ],
   "source": [
    "import numpy as np\n",
    "from scipy import optimize\n",
    "\n",
    "z = np.array([-2, -3, 5])\n",
    "\n",
    "Aeq = np.array([[1, 1, 1]])\n",
    "Beq = np.array([7])\n",
    "\n",
    "A = np.array([[-2, 5, -1], [1, 3, 1]])\n",
    "B = np.array([-10, 12])\n",
    "\n",
    "x1_bound = x2_bound = x3_bound = (0, None)\n",
    "\n",
    "res = optimize.linprog(z, A_eq=Aeq, b_eq=Beq, A_ub=A, b_ub=B, bounds=(x1_bound, x2_bound, x3_bound))\n",
    "res"
   ]
  },
  {
   "cell_type": "markdown",
   "metadata": {},
   "source": [
    "**例题.2 指派问题**"
   ]
  },
  {
   "cell_type": "markdown",
   "metadata": {},
   "source": [
    "**n个人去干n项工作，每人干且仅干一项，若分配第 i人去干第j项工作，需要花费$c_{ij}$单位时间**\n",
    "\n",
    "**问如何分配工作使得总时间最小**"
   ]
  },
  {
   "cell_type": "code",
   "execution_count": 10,
   "metadata": {},
   "outputs": [
    {
     "name": "stdout",
     "output_type": "stream",
     "text": [
      "[1 2 3 4 5]\n",
      "[2 3 1 4 5]\n",
      "[7 6 7 6 6]\n"
     ]
    }
   ],
   "source": [
    "import numpy as np\n",
    "from scipy.optimize import linear_sum_assignment\n",
    "\n",
    "efficiency_matrix = np.array([\n",
    "    [12,7,9,7,9],\n",
    "    [8,9,6,6,6],\n",
    "    [7,17,12,14,12],\n",
    "    [15,14,6,6,10],\n",
    "    [4,10,7,10,6]\n",
    "])\n",
    "\n",
    "row_index, col_index=linear_sum_assignment(efficiency_matrix)\n",
    "print(row_index+1) #行\n",
    "print(col_index+1) #列\n",
    "print(efficiency_matrix[row_index,col_index])"
   ]
  },
  {
   "cell_type": "code",
   "execution_count": null,
   "metadata": {},
   "outputs": [],
   "source": []
  }
 ],
 "metadata": {
  "kernelspec": {
   "display_name": "Python 3",
   "language": "python",
   "name": "python3"
  },
  "language_info": {
   "codemirror_mode": {
    "name": "ipython",
    "version": 3
   },
   "file_extension": ".py",
   "mimetype": "text/x-python",
   "name": "python",
   "nbconvert_exporter": "python",
   "pygments_lexer": "ipython3",
   "version": "3.6.5"
  }
 },
 "nbformat": 4,
 "nbformat_minor": 2
}
