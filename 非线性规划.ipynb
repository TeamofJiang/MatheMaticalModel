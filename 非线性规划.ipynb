{
 "cells": [
  {
   "cell_type": "markdown",
   "metadata": {},
   "source": [
    "## 非线性规划"
   ]
  },
  {
   "cell_type": "markdown",
   "metadata": {},
   "source": [
    "\\begin{align}\n",
    "&scipy.optimize.minmize(                    \\\\\\\n",
    "    &\\qquad x0, args = (), method = None, jac = None,  \\\\\\\n",
    "    &\\qquad hess = None, hessp = None, bounds = None,      \\\\\\\n",
    "    &\\qquad constraints = (), tol = None, callback = None, options = None\n",
    ")\n",
    "\\end{align}\n",
    "\n",
    "<br>\n",
    "fun : 优化的目标函数 <br>\n",
    "x0 : 猜测的初值，多元函数需要将x0视为一个向量<br>\n",
    "args : 传递目标函数可设定的参数<br>\n",
    "method : 选用的优化方法<br>\n",
    "bounds : 变量的取值范围<br>\n",
    "constraints : 优化的约束条件，类型为字典组成的元组<br>\n",
    "tol : 设定误差的阈值<br>"
   ]
  },
  {
   "cell_type": "code",
   "execution_count": 1,
   "metadata": {},
   "outputs": [
    {
     "data": {
      "text/plain": [
       "     fun: 0.8000000011920985\n",
       "     jac: array([ 0.80000002, -1.59999999])\n",
       " message: 'Optimization terminated successfully.'\n",
       "    nfev: 13\n",
       "     nit: 3\n",
       "    njev: 3\n",
       "  status: 0\n",
       " success: True\n",
       "       x: array([1.4, 1.7])"
      ]
     },
     "execution_count": 1,
     "metadata": {},
     "output_type": "execute_result"
    }
   ],
   "source": [
    "from scipy import optimize\n",
    "\n",
    "fun = lambda x : (x[0] - 1)**2 + (x[1] - 2.5)**2\n",
    "\n",
    "cons = (\n",
    "    {'type': 'ineq', 'fun': lambda x:  x[0] - 2 * x[1] + 2},\n",
    "    {'type': 'ineq', 'fun': lambda x: -x[0] - 2 * x[1] + 6},\n",
    "    {'type': 'ineq', 'fun': lambda x: -x[0] + 2 * x[1] + 2}\n",
    ")\n",
    "\n",
    "bnds = ((0, None), (0, None))\n",
    "\n",
    "res = optimize.minimize(fun, (2, 0), method = \"SLSQP\", bounds = bnds, constraints = cons)\n",
    "res"
   ]
  },
  {
   "cell_type": "markdown",
   "metadata": {},
   "source": [
    "**例题1**"
   ]
  },
  {
   "cell_type": "code",
   "execution_count": null,
   "metadata": {},
   "outputs": [],
   "source": []
  }
 ],
 "metadata": {
  "kernelspec": {
   "display_name": "Python 3",
   "language": "python",
   "name": "python3"
  },
  "language_info": {
   "codemirror_mode": {
    "name": "ipython",
    "version": 3
   },
   "file_extension": ".py",
   "mimetype": "text/x-python",
   "name": "python",
   "nbconvert_exporter": "python",
   "pygments_lexer": "ipython3",
   "version": "3.6.5"
  }
 },
 "nbformat": 4,
 "nbformat_minor": 2
}
