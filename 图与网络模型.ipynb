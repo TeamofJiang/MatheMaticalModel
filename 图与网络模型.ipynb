{
 "cells": [
  {
   "cell_type": "markdown",
   "metadata": {},
   "source": [
    "### 图与网络模型\n",
    ">- 最短路问题\n",
    "- 最大流问题\n",
    "- 最小费用流问题"
   ]
  },
  {
   "cell_type": "markdown",
   "metadata": {},
   "source": [
    "**最短路径问题**"
   ]
  },
  {
   "cell_type": "markdown",
   "metadata": {},
   "source": [
    "> 1. dijkstra算法"
   ]
  },
  {
   "cell_type": "code",
   "execution_count": 1,
   "metadata": {},
   "outputs": [],
   "source": [
    "import numpy as np"
   ]
  },
  {
   "cell_type": "code",
   "execution_count": 2,
   "metadata": {},
   "outputs": [],
   "source": [
    "Inf = float('inf')\n",
    "A = np.array([\n",
    "    [0, 50, Inf, 40, 25, 10],\n",
    "    [50, 0, 15, 20, Inf, 25],\n",
    "    [Inf, 15, 0, 10, 20, Inf],\n",
    "    [40, 20, 10, 0, 10, 25],\n",
    "    [25, Inf, 20, 10, 0, 55],\n",
    "    [10, 25, Inf, 25, 55, 0]\n",
    "])"
   ]
  },
  {
   "cell_type": "code",
   "execution_count": 3,
   "metadata": {},
   "outputs": [],
   "source": [
    "def dijkstra(s, A):\n",
    "    T, V = [], []\n",
    "    length = A.shape[0]\n",
    "    for i in range(length):\n",
    "        if A[s, i] != 0:\n",
    "            T.append((s, i, A[s, i]))\n",
    "    while len(V) != length - 1:\n",
    "        T = sorted(T, key = lambda item : item[2], reverse = True)\n",
    "        node = T.pop()\n",
    "        for item in T:\n",
    "            if item[1] == node[1] : del item\n",
    "        V.append(node)\n",
    "        vindex = node[1]\n",
    "        \n",
    "        for i in range(length):\n",
    "            if A[s, i] > A[s, vindex] + A[vindex, i]:\n",
    "                A[s, i] = A[s, vindex] + A[vindex, i]\n",
    "                T.append((s, i, A[s, i]))\n",
    "                \n",
    "    return V"
   ]
  },
  {
   "cell_type": "code",
   "execution_count": 4,
   "metadata": {},
   "outputs": [
    {
     "name": "stdout",
     "output_type": "stream",
     "text": [
      "节点 0 到节点 5 的距离为 10.0\n",
      "节点 0 到节点 4 的距离为 25.0\n",
      "节点 0 到节点 3 的距离为 35.0\n",
      "节点 0 到节点 1 的距离为 35.0\n",
      "节点 0 到节点 3 的距离为 40.0\n"
     ]
    }
   ],
   "source": [
    "res = dijkstra(0, A)\n",
    "for item in res:\n",
    "    print(\"节点\",item[0],\"到节点\",item[1],\"的距离为\",item[2])"
   ]
  },
  {
   "cell_type": "markdown",
   "metadata": {},
   "source": [
    "> 2.Floyed算法"
   ]
  },
  {
   "cell_type": "code",
   "execution_count": 5,
   "metadata": {},
   "outputs": [],
   "source": [
    "def floyed(A):\n",
    "    length = A.shape[0]\n",
    "    res = np.zeros((6, 6))\n",
    "    for i in range(length):\n",
    "        for j in range(length):\n",
    "            temp = A[i, j]\n",
    "            for k in range(length):\n",
    "                if temp >= A[i, k] + A[k, j]:\n",
    "                    temp = A[i, k] + A[k, j]\n",
    "            res[i, j] = temp\n",
    "    return res"
   ]
  },
  {
   "cell_type": "code",
   "execution_count": 6,
   "metadata": {},
   "outputs": [
    {
     "data": {
      "text/plain": [
       "array([[ 0., 35., 45., 35., 25., 10.],\n",
       "       [35.,  0., 15., 20., 30., 25.],\n",
       "       [45., 15.,  0., 10., 20., 35.],\n",
       "       [35., 20., 10.,  0., 10., 25.],\n",
       "       [25., 30., 20., 10.,  0., 35.],\n",
       "       [10., 25., 35., 25., 35.,  0.]])"
      ]
     },
     "execution_count": 6,
     "metadata": {},
     "output_type": "execute_result"
    }
   ],
   "source": [
    "floyed(A)"
   ]
  },
  {
   "cell_type": "markdown",
   "metadata": {},
   "source": [
    "**最小生成树**"
   ]
  },
  {
   "cell_type": "markdown",
   "metadata": {},
   "source": [
    "> 1.Prim算法"
   ]
  },
  {
   "cell_type": "code",
   "execution_count": 7,
   "metadata": {},
   "outputs": [],
   "source": [
    "def prim(A):\n",
    "    P, G = [], []\n",
    "    length = A.shape[0]\n",
    "    P.append(0)\n",
    "    while len(G) != length - 1:\n",
    "        for item in P:\n",
    "            dmin, Nodei, Nodej = Inf,item, None\n",
    "            for i in range(length):\n",
    "                if i == item or i in P: continue\n",
    "                dtemp = A[item, i]\n",
    "                if dtemp < dmin :\n",
    "                    dmin, Nodei, Nodej = dtemp, item, i\n",
    "        P.append(Nodej)\n",
    "        G.append((Nodei, Nodej, A[Nodei, Nodej]))\n",
    "    return G\n",
    "    "
   ]
  },
  {
   "cell_type": "code",
   "execution_count": 8,
   "metadata": {},
   "outputs": [
    {
     "data": {
      "text/plain": [
       "[(0, 5, 10.0), (5, 1, 25.0), (1, 2, 15.0), (2, 3, 10.0), (3, 4, 10.0)]"
      ]
     },
     "execution_count": 8,
     "metadata": {},
     "output_type": "execute_result"
    }
   ],
   "source": [
    "prim(A)"
   ]
  },
  {
   "cell_type": "markdown",
   "metadata": {},
   "source": [
    "> 2.Kruskal算法"
   ]
  },
  {
   "cell_type": "code",
   "execution_count": 9,
   "metadata": {},
   "outputs": [],
   "source": [
    "def Kruskal(A):\n",
    "    f, G = {}, []\n",
    "    length = A.shape[0]\n",
    "    def find(x):\n",
    "        f.setdefault(x, x)\n",
    "        if f[x] != x:\n",
    "            f[x] == find(f[x])\n",
    "            return f[x]\n",
    "        else : return -1\n",
    "    def union(x, y):\n",
    "        f[y] = x\n",
    "        \n",
    "    priority_list = []\n",
    "    for i in range(length-1):\n",
    "        for j in range(i+1, length):\n",
    "            priority_list.append((i, j, A[i, j]))\n",
    "            \n",
    "    priority_list = sorted(priority_list, key = lambda x : x[2], reverse = True)\n",
    "    \n",
    "    while len(G) != length - 1:\n",
    "        v = priority_list.pop(-1)\n",
    "        x, y = v[0], v[1]\n",
    "        if find(x) == -1 or find(y) == -1 or find(x) != find(y):\n",
    "            G.append(v)\n",
    "            union(x, y)\n",
    "    return G\n"
   ]
  },
  {
   "cell_type": "code",
   "execution_count": 10,
   "metadata": {},
   "outputs": [
    {
     "data": {
      "text/plain": [
       "[(3, 4, 10.0), (2, 3, 10.0), (0, 5, 10.0), (1, 2, 15.0), (2, 4, 20.0)]"
      ]
     },
     "execution_count": 10,
     "metadata": {},
     "output_type": "execute_result"
    }
   ],
   "source": [
    "Kruskal(A)"
   ]
  },
  {
   "cell_type": "markdown",
   "metadata": {},
   "source": [
    "  "
   ]
  },
  {
   "cell_type": "markdown",
   "metadata": {},
   "source": [
    "**最大流问题**"
   ]
  },
  {
   "cell_type": "code",
   "execution_count": null,
   "metadata": {},
   "outputs": [],
   "source": []
  }
 ],
 "metadata": {
  "kernelspec": {
   "display_name": "Python 3",
   "language": "python",
   "name": "python3"
  },
  "language_info": {
   "codemirror_mode": {
    "name": "ipython",
    "version": 3
   },
   "file_extension": ".py",
   "mimetype": "text/x-python",
   "name": "python",
   "nbconvert_exporter": "python",
   "pygments_lexer": "ipython3",
   "version": "3.6.5"
  }
 },
 "nbformat": 4,
 "nbformat_minor": 2
}
